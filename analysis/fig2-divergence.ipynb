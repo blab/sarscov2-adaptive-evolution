{
 "cells": [
  {
   "cell_type": "code",
   "execution_count": 12,
   "metadata": {},
   "outputs": [],
   "source": [
    "from utils import sars2_genome_info, sars2_genome_seq, get_parent, add_syn_mut_attribute, add_mut_at_node_attr, add_changes_from_root_attr\n",
    "from utils_randomization import get_total_muts_on_tree, get_branch_lengths, randomize_mutations_on_tree_multinomial\n",
    "from utils_plotting import get_color_palette, convert_linege_names, get_linear_reg_stats, DateToStr\n",
    "from augur.utils import json_to_tree\n",
    "from os import path\n",
    "import pandas as pd\n",
    "import numpy as np\n",
    "from Bio import SeqIO\n",
    "from Bio.Seq import Seq\n",
    "from Bio.Seq import MutableSeq\n",
    "from Bio.SeqFeature import SeqFeature, FeatureLocation\n",
    "from Bio.SeqRecord import SeqRecord\n",
    "from Bio import AlignIO\n",
    "from Bio.Align import MultipleSeqAlignment\n",
    "from Bio.Align import AlignInfo\n",
    "import matplotlib.pyplot as plt\n",
    "import seaborn as sns\n",
    "from scipy import stats\n",
    "from datetime import datetime, date\n",
    "import calendar\n",
    "import time\n",
    "import math\n",
    "import json\n",
    "import string\n",
    "import requests"
   ]
  },
  {
   "cell_type": "markdown",
   "metadata": {},
   "source": [
    "## Figure 2: Ratio of nonsynonymous to synonymous divergence is highest S1\n",
    "\n",
    "##### The nonsynonymous and synonymous divergence in different regions of the genome is calculated over time. The ratio of nonsynonymous to synonymous divergence is then plotted.\n",
    "\n",
    "#### This notebook completes the analysis Figure 2. "
   ]
  },
  {
   "cell_type": "markdown",
   "metadata": {},
   "source": [
    "Import the tree and convert to Bio Phylo format. This is a time-resolved phylogeny built from 9544 SARS-CoV-2 genomes sampled between December 2019 and May 15, 2021. The tree can be viewed at https://nextstrain.org/groups/blab/ncov/adaptive-evolution/2021-05-15"
   ]
  },
  {
   "cell_type": "code",
   "execution_count": 2,
   "metadata": {},
   "outputs": [],
   "source": [
    "tree_url = 'https://nextstrain-blab.s3.amazonaws.com/ncov_adaptive-evolution_2021-05-15.json'\n",
    "\n",
    "tree_json = requests.get(tree_url).json()\n",
    "\n",
    "#Put tree in Bio.Phylo format\n",
    "tree = json_to_tree(tree_json)"
   ]
  },
  {
   "cell_type": "markdown",
   "metadata": {},
   "source": [
    "Get information about genome position and length of each gene "
   ]
  },
  {
   "cell_type": "code",
   "execution_count": 3,
   "metadata": {},
   "outputs": [],
   "source": [
    "reference_gene_locations, reference_gene_codon, gene_lengths_aa = sars2_genome_info()"
   ]
  },
  {
   "cell_type": "code",
   "execution_count": 4,
   "metadata": {},
   "outputs": [],
   "source": [
    "reference_sequence_aa, reference_sequence_nt = sars2_genome_seq()"
   ]
  },
  {
   "cell_type": "markdown",
   "metadata": {},
   "source": [
    "Add information about synonymous mutations as an attribute of nodes on the tree"
   ]
  },
  {
   "cell_type": "code",
   "execution_count": 5,
   "metadata": {},
   "outputs": [],
   "source": [
    "tree = add_syn_mut_attribute(tree)"
   ]
  },
  {
   "cell_type": "markdown",
   "metadata": {},
   "source": [
    "Add an attribute to each node that lists all mutations that have occurred between the root and node"
   ]
  },
  {
   "cell_type": "code",
   "execution_count": 6,
   "metadata": {},
   "outputs": [],
   "source": [
    "tree = add_changes_from_root_attr(tree)"
   ]
  },
  {
   "cell_type": "markdown",
   "metadata": {},
   "source": [
    "For each time window, compute dN/dS for each isolate within the window. For each internal branch, the following function finds gene-specific nonsynonymous and synonymous divergence and then calculates the dN/dS ratio. Divergence here is the Hamming distance from the root normalized by the total number of synonymous or nonsynonymous sites in the gene."
   ]
  },
  {
   "cell_type": "code",
   "execution_count": 7,
   "metadata": {},
   "outputs": [],
   "source": [
    "def find_nonsyn_syn_denominators():\n",
    "    \n",
    "    denominators = {}\n",
    "    \n",
    "    for gene,nt_seq in reference_sequence_nt.items():\n",
    "        \n",
    "        seq = str(nt_seq)\n",
    "        aa_seq = str(reference_sequence_aa[gene])\n",
    "\n",
    "        nonsyn_denominator = 0\n",
    "        syn_denominator = 0\n",
    "\n",
    "        all_nts = ['A', 'C', 'G', 'T']\n",
    "\n",
    "        for pos in range(len(seq)):\n",
    "            nt = seq[pos]\n",
    "            if nt!='N':\n",
    "\n",
    "                codon = math.floor(pos/3)\n",
    "                codon_pos = pos-(codon*3)\n",
    "                real_codon_aa = aa_seq[codon]\n",
    "\n",
    "                all_other_nts = [x for x in all_nts if x != nt]\n",
    "                for mutated_nt in all_other_nts: \n",
    "                    if codon_pos == 0:\n",
    "                        mut_codon_nt = mutated_nt+seq[pos+1:(pos+3)]\n",
    "                    elif codon_pos == 1:\n",
    "                        mut_codon_nt = seq[pos-1]+mutated_nt+seq[pos+1]\n",
    "                    elif codon_pos == 2:\n",
    "                        mut_codon_nt = seq[(pos-2):pos]+mutated_nt\n",
    "\n",
    "                    mut_codon_aa = Seq(mut_codon_nt).translate()\n",
    "\n",
    "                    if mut_codon_aa!=real_codon_aa:\n",
    "                        nonsyn_denominator+=1\n",
    "                    elif mut_codon_aa==real_codon_aa:\n",
    "                        syn_denominator+=1\n",
    "                        \n",
    "            \n",
    "        denominators[gene] = {'nonsyn_denominator': nonsyn_denominator, 'syn_denominator':syn_denominator}\n",
    "        \n",
    "    return denominators"
   ]
  },
  {
   "cell_type": "markdown",
   "metadata": {},
   "source": [
    "Calculate the total number of nonsynonymous or synonymous sites (denominators)"
   ]
  },
  {
   "cell_type": "code",
   "execution_count": 8,
   "metadata": {},
   "outputs": [],
   "source": [
    "denominators = find_nonsyn_syn_denominators()"
   ]
  },
  {
   "cell_type": "markdown",
   "metadata": {},
   "source": [
    "Time windows for Fig2 will be 2 calendar months, and human readable. Make a list of time window start and end dates, in human readable dates and decimal years. For plotting, use the date at the middle of the window. For example, if window includes all of March and April 2020 (Mar-01-2020 to Apr-30-2020), plot this at April 1 2020. Use sliding windows that overlap by one month"
   ]
  },
  {
   "cell_type": "code",
   "execution_count": 9,
   "metadata": {},
   "outputs": [],
   "source": [
    "def toYearFraction(date):\n",
    "    def sinceEpoch(date): # returns seconds since epoch\n",
    "        return time.mktime(date.timetuple())\n",
    "    s = sinceEpoch\n",
    "\n",
    "    year = date.year\n",
    "    startOfThisYear = datetime(year=year, month=1, day=1)\n",
    "    startOfNextYear = datetime(year=year+1, month=1, day=1)\n",
    "\n",
    "    yearElapsed = s(date) - s(startOfThisYear)\n",
    "    yearDuration = s(startOfNextYear) - s(startOfThisYear)\n",
    "    fraction = yearElapsed/yearDuration\n",
    "\n",
    "    return date.year + fraction"
   ]
  },
  {
   "cell_type": "code",
   "execution_count": 10,
   "metadata": {},
   "outputs": [],
   "source": [
    "# find the end date of the build\n",
    "\n",
    "last_timepoint = 0\n",
    "for node in tree.find_clades():\n",
    "    if node.node_attrs['num_date']['value'] > last_timepoint:\n",
    "        last_timepoint = node.node_attrs['num_date']['value']\n",
    "\n",
    "last_date = DateToStr(last_timepoint)\n",
    "last_date = datetime.strptime(last_date, '%b-%d-%Y')"
   ]
  },
  {
   "cell_type": "code",
   "execution_count": 13,
   "metadata": {},
   "outputs": [],
   "source": [
    "time_windows = []\n",
    "\n",
    "for year in [2020, 2021]:\n",
    "    for month in range(1,13):\n",
    "        # change add_window to True if window is before the end of the build\n",
    "        add_window = False\n",
    "        \n",
    "        window_start = date(year, month, 1)\n",
    "        if month < 12:\n",
    "            last_day_of_month = calendar.monthrange(year, month+1)[1]\n",
    "            window_end = date(year, month+1, last_day_of_month)\n",
    "            window_midpoint = date(year, month+1, 1)\n",
    "        elif month ==12:\n",
    "            last_day_of_month = calendar.monthrange(year+1, 1)[1]\n",
    "            window_end = date(year+1, 1, last_day_of_month)\n",
    "            window_midpoint = date(year+1, 1, 1)\n",
    "            \n",
    "\n",
    "        if year < last_date.year:\n",
    "            add_window = True\n",
    "\n",
    "        # end time windows at build date\n",
    "        elif year == last_date.year:\n",
    "            if month < (last_date.month - 1):\n",
    "                add_window = True\n",
    "\n",
    "            elif month == (last_date.month - 1):\n",
    "                window_end = last_date\n",
    "                add_window = True\n",
    "\n",
    "        if add_window ==True:        \n",
    "            time_windows.append({'window_start_decimal': toYearFraction(window_start), \n",
    "                            'window_end_decimal': toYearFraction(window_end), \n",
    "                            'window_start': datetime.strftime(window_start, '%b-%d-%Y'), \n",
    "                            'window_end': datetime.strftime(window_end, '%b-%d-%Y'), \n",
    "                            'window_midpoint': datetime.strftime(window_midpoint, '%b-%d-%Y')})\n",
    "                "
   ]
  },
  {
   "cell_type": "code",
   "execution_count": 14,
   "metadata": {},
   "outputs": [],
   "source": [
    "def find_divergence_in_window():\n",
    "    \n",
    "\n",
    "    window_dnds_info = []\n",
    "    \n",
    "    names_for_fig_diagram = []\n",
    "\n",
    "    \n",
    "    # look at divergence within time window\n",
    "    for x in range(0,len(time_windows)):\n",
    "        start_date = float(time_windows[x]['window_start_decimal'])\n",
    "        end_date = float(time_windows[x]['window_end_decimal'])\n",
    "        \n",
    "        s1_div_in_window = []\n",
    "        s1_syn_div_in_window = []\n",
    "        rdrp_div_in_window = []\n",
    "        rdrp_syn_div_in_window = []\n",
    "\n",
    "        for node in tree.find_clades(terminal=False):\n",
    "            if node.node_attrs['num_date']['value']>=start_date and  node.node_attrs['num_date']['value']<=end_date:\n",
    "\n",
    "\n",
    "                s1_nonsyn_denom, s1_syn_denom = denominators['S1']['nonsyn_denominator'], denominators['S1']['syn_denominator']\n",
    "\n",
    "\n",
    "\n",
    "                s1_div = len(node.node_attrs[\"changes_from_ref\"]['s1_non'])/s1_nonsyn_denom\n",
    "\n",
    "                #assign a false count to avoid dividing by zero\n",
    "                if len(node.node_attrs[\"changes_from_ref\"]['s1_syn']) == 0:\n",
    "                    s1_syn_div = 1/s1_syn_denom\n",
    "                else:\n",
    "                    s1_syn_div = (len(node.node_attrs[\"changes_from_ref\"]['s1_syn'])+1)/s1_syn_denom\n",
    "\n",
    "\n",
    "                s1_n_over_s = s1_div/s1_syn_div\n",
    "\n",
    "\n",
    "                rdrp_nonsyn_denom, rdrp_syn_denom = denominators['RdRp']['nonsyn_denominator'], denominators['RdRp']['syn_denominator']\n",
    "\n",
    "                rdrp_div = len(node.node_attrs[\"changes_from_ref\"]['rdrp_non'])/rdrp_nonsyn_denom\n",
    "                if len(node.node_attrs[\"changes_from_ref\"]['rdrp_syn']) == 0:\n",
    "                    rdrp_syn_div = 1/rdrp_syn_denom\n",
    "                else:\n",
    "                    rdrp_syn_div = (len(node.node_attrs[\"changes_from_ref\"]['rdrp_syn'])+1)/rdrp_syn_denom\n",
    "\n",
    "                rdrp_n_over_s = rdrp_div/rdrp_syn_div\n",
    "\n",
    "\n",
    "                e_nonsyn_denom, e_syn_denom = denominators['E']['nonsyn_denominator'], denominators['E']['syn_denominator']\n",
    "\n",
    "                e_div = len(node.node_attrs[\"changes_from_ref\"]['e_non'])/e_nonsyn_denom\n",
    "                if len(node.node_attrs[\"changes_from_ref\"]['e_syn']) == 0:\n",
    "                    e_syn_div = 1/e_syn_denom\n",
    "                else:\n",
    "                    e_syn_div = (len(node.node_attrs[\"changes_from_ref\"]['e_syn'])+1)/e_syn_denom\n",
    "\n",
    "                e_n_over_s = e_div/e_syn_div\n",
    "\n",
    "\n",
    "\n",
    "                n_nonsyn_denom, n_syn_denom = denominators['N']['nonsyn_denominator'], denominators['N']['syn_denominator']\n",
    "\n",
    "                n_div = len(node.node_attrs[\"changes_from_ref\"]['n_non'])/n_nonsyn_denom\n",
    "                if len(node.node_attrs[\"changes_from_ref\"]['n_syn']) == 0:\n",
    "                    n_syn_div = 1/n_syn_denom\n",
    "                else:\n",
    "                    n_syn_div = (len(node.node_attrs[\"changes_from_ref\"]['n_syn'])+1)/n_syn_denom\n",
    "\n",
    "                n_n_over_s = n_div/n_syn_div\n",
    "\n",
    "\n",
    "                m_nonsyn_denom, m_syn_denom = denominators['M']['nonsyn_denominator'], denominators['M']['syn_denominator']\n",
    "\n",
    "                m_div = len(node.node_attrs[\"changes_from_ref\"]['m_non'])/m_nonsyn_denom\n",
    "                if len(node.node_attrs[\"changes_from_ref\"]['m_syn']) == 0:\n",
    "                    m_syn_div = 1/m_syn_denom\n",
    "                else:\n",
    "                    m_syn_div = (len(node.node_attrs[\"changes_from_ref\"]['m_syn'])+1)/m_syn_denom\n",
    "\n",
    "                m_n_over_s = m_div/m_syn_div\n",
    "\n",
    "\n",
    "                s2_nonsyn_denom, s2_syn_denom = denominators['S2']['nonsyn_denominator'], denominators['S2']['syn_denominator']\n",
    "\n",
    "                s2_div = len(node.node_attrs[\"changes_from_ref\"]['s2_non'])/s2_nonsyn_denom\n",
    "                if len(node.node_attrs[\"changes_from_ref\"]['s2_syn']) == 0:\n",
    "                    s2_syn_div = 1/s2_syn_denom\n",
    "                else:\n",
    "                    s2_syn_div = (len(node.node_attrs[\"changes_from_ref\"]['s2_syn'])+1)/s2_syn_denom\n",
    "\n",
    "                s2_n_over_s = s2_div/s2_syn_div\n",
    "\n",
    "\n",
    "                nsp6_nonsyn_denom, nsp6_syn_denom = denominators['Nsp6']['nonsyn_denominator'], denominators['Nsp6']['syn_denominator']\n",
    "\n",
    "\n",
    "                nsp6_div = len(node.node_attrs[\"changes_from_ref\"]['nsp6_non'])/nsp6_nonsyn_denom\n",
    "                if len(node.node_attrs[\"changes_from_ref\"]['nsp6_syn']) == 0:\n",
    "                    nsp6_syn_div = 1/nsp6_syn_denom\n",
    "                else:\n",
    "                    nsp6_syn_div = (len(node.node_attrs[\"changes_from_ref\"]['nsp6_syn'])+1)/nsp6_syn_denom\n",
    "\n",
    "                nsp6_n_over_s = nsp6_div/nsp6_syn_div\n",
    "\n",
    "\n",
    "                orf7a_nonsyn_denom, orf7a_syn_denom = denominators['ORF7a']['nonsyn_denominator'], denominators['ORF7a']['syn_denominator']\n",
    "\n",
    "                orf7a_div = len(node.node_attrs[\"changes_from_ref\"]['orf7a_non'])/orf7a_nonsyn_denom\n",
    "                if len(node.node_attrs[\"changes_from_ref\"]['orf7a_syn']) == 0:\n",
    "                    orf7a_syn_div = 1/orf7a_syn_denom\n",
    "                else:\n",
    "                    orf7a_syn_div = (len(node.node_attrs[\"changes_from_ref\"]['orf7a_syn'])+1)/orf7a_syn_denom\n",
    "\n",
    "                orf7a_n_over_s = orf7a_div/orf7a_syn_div\n",
    "\n",
    "\n",
    "                # get node names in order to make Fig2 diagram of branches included in calculations\n",
    "                names_for_fig_diagram.append({'node':node.name, \n",
    "                                              'window_start': time_windows[x]['window_start']})\n",
    "                \n",
    "        \n",
    "                window_dnds_info.append({'window_start': time_windows[x]['window_start'], \n",
    "                                         'window_start_decimal': time_windows[x]['window_start_decimal'], \n",
    "                                         'window_end': time_windows[x]['window_end'], \n",
    "                                         'window_midpoint': time_windows[x]['window_midpoint'],\n",
    "                                         'dn/ds':s1_n_over_s, 'location': 'S1'})\n",
    "                window_dnds_info.append({'window_start': time_windows[x]['window_start'],\n",
    "                                         'window_start_decimal': time_windows[x]['window_start_decimal'], \n",
    "                                         'window_end': time_windows[x]['window_end'],  \n",
    "                                         'window_midpoint': time_windows[x]['window_midpoint'],\n",
    "                                         'dn/ds':rdrp_n_over_s, 'location': 'RdRp'})\n",
    "                window_dnds_info.append({'window_start': time_windows[x]['window_start'],\n",
    "                                         'window_start_decimal': time_windows[x]['window_start_decimal'], \n",
    "                                         'window_end': time_windows[x]['window_end'], \n",
    "                                         'window_midpoint': time_windows[x]['window_midpoint'],\n",
    "                                         'dn/ds':e_n_over_s, 'location': 'E'})\n",
    "                window_dnds_info.append({'window_start': time_windows[x]['window_start'], \n",
    "                                         'window_start_decimal': time_windows[x]['window_start_decimal'], \n",
    "                                         'window_end': time_windows[x]['window_end'], \n",
    "                                         'window_midpoint': time_windows[x]['window_midpoint'],\n",
    "                                         'dn/ds':n_n_over_s, 'location': 'N'})\n",
    "                window_dnds_info.append({'window_start': time_windows[x]['window_start'], \n",
    "                                         'window_start_decimal': time_windows[x]['window_start_decimal'], \n",
    "                                         'window_end': time_windows[x]['window_end'],  \n",
    "                                         'window_midpoint': time_windows[x]['window_midpoint'],\n",
    "                                         'dn/ds':m_n_over_s, 'location': 'M'})\n",
    "                window_dnds_info.append({'window_start': time_windows[x]['window_start'], \n",
    "                                         'window_start_decimal': time_windows[x]['window_start_decimal'], \n",
    "                                         'window_end': time_windows[x]['window_end'], \n",
    "                                         'window_midpoint': time_windows[x]['window_midpoint'],\n",
    "                                         'dn/ds':s2_n_over_s, 'location': 'S2'})\n",
    "                window_dnds_info.append({'window_start': time_windows[x]['window_start'], \n",
    "                                         'window_start_decimal': time_windows[x]['window_start_decimal'], \n",
    "                                         'window_end': time_windows[x]['window_end'], \n",
    "                                         'window_midpoint': time_windows[x]['window_midpoint'],\n",
    "                                         'dn/ds':nsp6_n_over_s, 'location': 'Nsp6'})\n",
    "                window_dnds_info.append({'window_start': time_windows[x]['window_start'], \n",
    "                                         'window_start_decimal': time_windows[x]['window_start_decimal'], \n",
    "                                         'window_end': time_windows[x]['window_end'], \n",
    "                                         'window_midpoint': time_windows[x]['window_midpoint'],\n",
    "                                         'dn/ds':orf7a_n_over_s, 'location': 'ORF7a'})\n",
    "\n",
    "\n",
    "\n",
    "\n",
    "        \n",
    "                \n",
    "\n",
    "    window_dnds_df = pd.DataFrame(window_dnds_info)\n",
    "    \n",
    "    # for Fig2 diagram of branches included in calculations\n",
    "    nodes_for_fig_df = pd.DataFrame(names_for_fig_diagram)\n",
    "        \n",
    "\n",
    "    return window_dnds_df, nodes_for_fig_df\n",
    "        "
   ]
  },
  {
   "cell_type": "markdown",
   "metadata": {},
   "source": [
    "Generate a dataframe containing dN/dS information for each gene and temporal window"
   ]
  },
  {
   "cell_type": "code",
   "execution_count": 15,
   "metadata": {},
   "outputs": [],
   "source": [
    "window_dnds_df, nodes_for_fig_df = find_divergence_in_window()"
   ]
  },
  {
   "cell_type": "markdown",
   "metadata": {},
   "source": [
    "Find the overall mean dn/ds in S1 and the dn/ds in 2021"
   ]
  },
  {
   "cell_type": "code",
   "execution_count": 21,
   "metadata": {},
   "outputs": [
    {
     "name": "stdout",
     "output_type": "stream",
     "text": [
      "Overall mean dn/ds in S1: 0.6967318789880952\n",
      "2021 mean dn/ds in S1: 1.657721140217726\n"
     ]
    }
   ],
   "source": [
    "mean_overall = window_dnds_df[window_dnds_df['location']=='S1']['dn/ds'].mean()\n",
    "print(f'Overall mean dn/ds in S1: {mean_overall}')\n",
    "\n",
    "mean_2021 = window_dnds_df[(window_dnds_df['location']=='S1')& (window_dnds_df['window_start_decimal']>=2021)]['dn/ds'].mean()\n",
    "print(f'2021 mean dn/ds in S1: {mean_2021}')"
   ]
  },
  {
   "cell_type": "code",
   "execution_count": 110,
   "metadata": {},
   "outputs": [
    {
     "name": "stdout",
     "output_type": "stream",
     "text": [
      "1.8028814887985074\n"
     ]
    }
   ],
   "source": [
    "most_recent = window_dnds[(window_dnds['location']=='S1')& (window_dnds['window_midpoint']=='May-01-2021')]['dn/ds'].mean()\n",
    "print(most_recent)"
   ]
  },
  {
   "cell_type": "markdown",
   "metadata": {},
   "source": [
    "Plot dN/dS over time for each gene\n",
    "\n",
    "This code generates Figure 2."
   ]
  },
  {
   "cell_type": "code",
   "execution_count": 111,
   "metadata": {},
   "outputs": [],
   "source": [
    "# use window_start_decimal to plot dn/ds over time (so that timepoints get ordered properly), \n",
    "# but window_midpoint to label them, to make plot more human readable\n",
    "\n",
    "time_window_label = {x['window_start_decimal']:x['window_midpoint'] for x in time_windows}"
   ]
  },
  {
   "cell_type": "code",
   "execution_count": 115,
   "metadata": {},
   "outputs": [
    {
     "data": {
      "image/png": "[encoded data removed]",
      "text/plain": [
       "<Figure size 576x288 with 1 Axes>"
      ]
     },
     "metadata": {},
     "output_type": "display_data"
    }
   ],
   "source": [
    "fig, ax = plt.subplots(figsize=(8,4))\n",
    "plt.tight_layout()\n",
    "sns.set_style(\"white\")\n",
    "cmap = {'RdRp':\"#ff8c3a\", 'S1':\"#4770eb\", 'E': '#307358', 'N': '#419D78', \n",
    "        'M': '#a2d9c3', 'S2': '#1238aa', 'Nsp6':\"#c35100\", 'ORF7a':'#7c5295'}\n",
    "\n",
    "sns.pointplot(x='window_start_decimal', y='dn/ds', hue='location', palette=cmap,\n",
    "              data=window_dnds, hue_order=['S1', 'S2', 'RdRp', 'Nsp6', 'ORF7a', 'E', 'M', 'N'],\n",
    "              ci=95, ax=ax)\n",
    "sns.despine(left=False, bottom=False)\n",
    "ax.set_xlabel('Date', fontsize=14)\n",
    "ax.set_ylabel('Nonsynonymous divergence/ \\nSynonymous divergence', fontsize=14)\n",
    "ax.tick_params(axis='y', which='major', labelsize=14)\n",
    "ax.set_xticks([p for p in ax.get_xticks()])\n",
    "ax.set_xticklabels([time_window_label[float(t.get_text())] for t in ax.get_xticklabels()], rotation=30)\n",
    "\n",
    "#label every other point, for legibility\n",
    "for label in ax.xaxis.get_ticklabels()[::2]:\n",
    "    label.set_visible(False)\n",
    "\n",
    "\n",
    "handles, labels = ax.get_legend_handles_labels()\n",
    "lgd = ax.legend(handles, labels, loc='upper center', fontsize=12, bbox_to_anchor=(0.1, 1.0), \n",
    "                 title = r'$\\bf{Location}$')\n",
    "# ax.axhline(y=0.39, color=\"#ABABAB\", linestyle = '--')\n",
    "# ax.annotate(text='H3N2 HA1', xy=(0.08, 0.25), xycoords='axes fraction', color=\"#ABABAB\", fontsize=14)\n",
    "\n",
    "fig.savefig('plots/fig2_divergence.png', dpi=300, bbox_inches='tight')"
   ]
  },
  {
   "cell_type": "code",
   "execution_count": null,
   "metadata": {},
   "outputs": [],
   "source": []
  },
  {
   "cell_type": "markdown",
   "metadata": {},
   "source": [
    "Make diagrams for Figure 2 showing how dn/ds is calculated. To do this, write a json file with all nodes present in a given time window. Then run ncov_workflow/scripts/fig2_diagrams.py with this json file as an input to get a one-off version of the auspice json that will color nodes in the window red and later nodes gray"
   ]
  },
  {
   "cell_type": "code",
   "execution_count": 122,
   "metadata": {},
   "outputs": [],
   "source": [
    "#list of nodes in chosen windows\n",
    "nodes_in_mar2020_april2020 = nodes_for_fig_df[nodes_for_fig_df['window_start']=='Mar-01-2020']['node'].to_list()\n",
    "nodes_in_dec2020_jan2021 = nodes_for_fig_df[nodes_for_fig_df['window_start']=='Dec-01-2020']['node'].to_list()\n",
    "\n",
    "# find the parents of nodes within each window and add them to the list\n",
    "# so that the whole path will be colored\n",
    "mar2020_apr2020_nodes_and_paths = nodes_in_mar2020_april2020\n",
    "dec2020_jan2021_nodes_and_paths = nodes_in_dec2020_jan2021\n",
    "\n",
    "for node in tree.find_clades(terminal=False):\n",
    "    if node.name in nodes_in_mar2020_april2020:\n",
    "        parents = get_parent(tree, node)[:-1]\n",
    "        parent_nodes = [p.name for p in parents]\n",
    "        mar2020_apr2020_nodes_and_paths+=parent_nodes\n",
    "    elif node.name in nodes_in_dec2020_jan2021:\n",
    "        parents = get_parent(tree, node)[:-1]\n",
    "        parent_nodes = [p.name for p in parents]\n",
    "        dec2020_jan2021_nodes_and_paths+=parent_nodes\n",
    "        \n",
    "\n",
    "mar2020_apr2020_nodes_and_paths = list(set(mar2020_apr2020_nodes_and_paths))\n",
    "\n",
    "dec2020_jan2021_nodes_and_paths = list(set(dec2020_jan2021_nodes_and_paths))\n",
    "\n",
    "with open('nodes_mar2020apr2020.json', 'w') as f:\n",
    "    json.dump({'time_window': 'Mar012020-Apr312020','nodes': mar2020_apr2020_nodes_and_paths}, f)\n",
    "\n",
    "with open('nodes_dec2020jan2021.json', 'w') as f:\n",
    "    json.dump({'time_window': 'Dec012020-Jan312021','nodes': dec2020_jan2021_nodes_and_paths}, f)"
   ]
  },
  {
   "cell_type": "code",
   "execution_count": null,
   "metadata": {},
   "outputs": [],
   "source": []
  },
  {
   "cell_type": "code",
   "execution_count": null,
   "metadata": {},
   "outputs": [],
   "source": []
  },
  {
   "cell_type": "code",
   "execution_count": null,
   "metadata": {},
   "outputs": [],
   "source": []
  },
  {
   "cell_type": "code",
   "execution_count": 31,
   "metadata": {},
   "outputs": [
    {
     "name": "stdout",
     "output_type": "stream",
     "text": [
      "(0.24056301982174555, 0.2501595273624347)\n"
     ]
    }
   ],
   "source": [
    "# double check that plotted 95% confidence intervals are correct\n",
    "import scipy.stats as st\n",
    "\n",
    "test = window_dnds_df[(window_dnds_df['location']=='S1')&(window_dnds_df['window_start']=='Mar-01-2020')]['dn/ds']\n",
    "print(st.t.interval(alpha=0.95, df=len(test)-1, loc=np.mean(test), scale=st.sem(test)) )\n"
   ]
  },
  {
   "cell_type": "code",
   "execution_count": 45,
   "metadata": {},
   "outputs": [
    {
     "name": "stdout",
     "output_type": "stream",
     "text": [
      "mean number of branches per window: 978.3125\n",
      "min number of branches per window: 121\n",
      "max number of branches per window: 2155\n"
     ]
    }
   ],
   "source": [
    "# find the number of branches in each window\n",
    "branches_per_window = []\n",
    "for start_date in list(window_dnds_df['window_start'].unique()):\n",
    "    branches_per_window.append(len(window_dnds_df[(window_dnds_df['location']=='S1')&(window_dnds_df['window_start']==start_date)]['dn/ds']))\n",
    "    \n",
    "print(f'mean number of branches per window: {sum(branches_per_window)/len(branches_per_window)}')\n",
    "print(f'min number of branches per window: {min(branches_per_window)}')\n",
    "print(f'max number of branches per window: {max(branches_per_window)}')\n"
   ]
  }
 ],
 "metadata": {
  "kernelspec": {
   "display_name": "ncov-kernel",
   "language": "python",
   "name": "ncov-kernel"
  },
  "language_info": {
   "codemirror_mode": {
    "name": "ipython",
    "version": 3
   },
   "file_extension": ".py",
   "mimetype": "text/x-python",
   "name": "python",
   "nbconvert_exporter": "python",
   "pygments_lexer": "ipython3",
   "version": "3.6.13"
  }
 },
 "nbformat": 4,
 "nbformat_minor": 5
}

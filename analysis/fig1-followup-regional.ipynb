{
 "cells": [
  {
   "cell_type": "code",
   "execution_count": 1,
   "metadata": {},
   "outputs": [],
   "source": [
    "from utils import sars2_genome_info, add_syn_mut_attribute, add_mut_accumulation_attr, add_del_accumulation_attr\n",
    "from utils_plotting import get_color_palette, convert_linege_names, get_linear_reg_stats, DateToStr\n",
    "from augur.utils import json_to_tree\n",
    "import matplotlib.pyplot as plt\n",
    "import matplotlib.gridspec as gridspec\n",
    "import seaborn as sns\n",
    "import numpy as np\n",
    "import pandas as pd\n",
    "import requests\n",
    "import json\n",
    "import math"
   ]
  },
  {
   "cell_type": "markdown",
   "metadata": {},
   "source": [
    "## Figure 1 follow-up: Correlation of accumulation of nonsynonymous mutations with clade success, split by region instead of global\n"
   ]
  },
  {
   "cell_type": "markdown",
   "metadata": {},
   "source": [
    "Get information about genome position and length of each gene "
   ]
  },
  {
   "cell_type": "code",
   "execution_count": 2,
   "metadata": {},
   "outputs": [],
   "source": [
    "reference_gene_locations, reference_gene_codon, gene_lengths_aa = sars2_genome_info()"
   ]
  },
  {
   "cell_type": "markdown",
   "metadata": {},
   "source": [
    "Make a list of regions of the genome to consider. Each element of the list is a tuple with the format: \n",
    "(region/type of mutation, node attribute name, gene length for normalizing mutation count, nonsynonymous or synonymous)"
   ]
  },
  {
   "cell_type": "code",
   "execution_count": 3,
   "metadata": {},
   "outputs": [],
   "source": [
    "genes_to_consider = [('S1', 's1_accumulation', 'S1', 'nonsyn'), ('S1_synonymous', 's1_syn_accumulation', 'S1', 'syn'), \n",
    "                       ('RdRp', 'rdrp_accumulation', 'RdRp', 'nonsyn'), ('N', 'n_accumulation', 'N', 'nonsyn'), \n",
    "                       ('E', 'e_accumulation', 'E', 'nonsyn'), ('M', 'm_accumulation', 'M', 'nonsyn'), \n",
    "                       ('Nsp6', 'nsp6_accumulation', 'Nsp6', 'nonsyn'), ('Nsp4', 'nsp4_accumulation', 'Nsp4', 'nonsyn'), \n",
    "                       ('S2', 's2_accumulation', 'S2', 'nonsyn'), ('ORF7a', 'orf7a_accumulation', 'ORF7a', 'nonsyn')]\n"
   ]
  },
  {
   "cell_type": "markdown",
   "metadata": {},
   "source": [
    "For each geographic region, find mutation accumulation and growth rate of clades to run the correlations from Fig1B (which uses a global phylogeny)"
   ]
  },
  {
   "cell_type": "code",
   "execution_count": 4,
   "metadata": {},
   "outputs": [],
   "source": [
    "def get_regional_tree_data(region):\n",
    "    #import tree\n",
    "    if region =='global':\n",
    "        tree_url = 'https://nextstrain-blab.s3.amazonaws.com/ncov_adaptive-evolution_2021-05-15.json'\n",
    "    else:\n",
    "        tree_url = f'https://nextstrain-blab.s3.amazonaws.com/ncov_adaptive-evolution_2021-05-15_{region}.json'\n",
    "    tree_json = requests.get(tree_url).json()\n",
    "    #Put tree in Bio.Phylo format\n",
    "    tree = json_to_tree(tree_json)\n",
    "    \n",
    "    # add information about synonymous muts as an attribute of the tree\n",
    "    tree = add_syn_mut_attribute(tree)\n",
    "    \n",
    "    # add an attribute to each node that gives the total number of mutations \n",
    "    # (synonymous SNPs or nonsynonymous SNPs plus deletions)\n",
    "    # accumulated between the tree root and that node (including muts on the node)\n",
    "    tree = add_mut_accumulation_attr(tree)\n",
    "    \n",
    "    #make a dataframe withrelevant information for Fig1B\n",
    "    muts_information = []\n",
    "\n",
    "    # only look at internal nodes\n",
    "    for node in tree.find_clades(terminal=False):\n",
    "\n",
    "        # only nodes within 6 weeks of May 15 have logisitic growth rates\n",
    "        logistic_growth = None\n",
    "        if \"logistic_growth\" in node.node_attrs:\n",
    "            logistic_growth = node.node_attrs[\"logistic_growth\"][\"value\"]\n",
    "\n",
    "        if hasattr(node, \"node_attrs\"):\n",
    "            # get inferred node date\n",
    "            date = node.node_attrs[\"num_date\"][\"value\"]\n",
    "\n",
    "            # get emerging lineage assignment of node \n",
    "            if 'emerging_lineage' in node.node_attrs:\n",
    "                emerging_lineage = node.node_attrs['emerging_lineage']['value']\n",
    "                emerging_lineage = convert_linege_names(emerging_lineage)\n",
    "\n",
    "            # make tidy df for seaborn plotting\n",
    "            for r in genes_to_consider:\n",
    "                # there are no synonymous deletions, but S1 deletions will be stored with S1_syn mut information-> these will not be plotted\n",
    "                # add figure_lineage key to group \n",
    "                muts_information.append({'clade': node.name, 'date': date, 'region': region,\n",
    "                                         'emerging_lineage': emerging_lineage,\n",
    "                                         'mut_location': r[0], \n",
    "                                         'num_muts': node.node_attrs[r[1]],  \n",
    "                                         'muts_per_codon': node.node_attrs[r[1]]/gene_lengths_aa[r[2]],\n",
    "                                         'logistic_growth': logistic_growth})\n",
    "\n",
    "\n",
    "    # make list into dataframe\n",
    "    muts_information_df = pd.DataFrame(muts_information)\n",
    "    \n",
    "    return muts_information_df\n",
    "    "
   ]
  },
  {
   "cell_type": "code",
   "execution_count": 5,
   "metadata": {},
   "outputs": [],
   "source": [
    "def concatenate_all_regions(regions):\n",
    "    \n",
    "    # initialize dataframe to store data from all regions\n",
    "    muts_df = pd.DataFrame(columns = ['clade', 'date', 'region', \n",
    "                                      'emerging_lineage', 'mut_location', \n",
    "                                      'num_muts', 'muts_per_codon', 'logistic_growth'])\n",
    "    \n",
    "    for r in regions:\n",
    "        muts_information_region = get_regional_tree_data(r)\n",
    "        muts_df = pd.concat([muts_df, muts_information_region])\n",
    "        \n",
    "    return muts_df"
   ]
  },
  {
   "cell_type": "code",
   "execution_count": null,
   "metadata": {},
   "outputs": [],
   "source": [
    "muts_df = concatenate_all_regions(['global','africa', 'asia','europe', 'northamerica', 'oceania', 'southamerica'])"
   ]
  },
  {
   "cell_type": "code",
   "execution_count": null,
   "metadata": {},
   "outputs": [],
   "source": [
    "# add column to color lineages as is done in manuscript for the primary analysis\n",
    "manuscript_lineage_map = {'basal': 'basal',\n",
    " 'A.23.1': 'other VOI',\n",
    " 'B.1.351 (Beta)': 'Beta',\n",
    " 'B.1.526 (Iota)': 'other VOI',\n",
    " 'B.1.621': 'other VOI',\n",
    " 'B.1.427/429 (Epsilon)': 'other VOI',\n",
    " 'B.1.620': 'other VOI',\n",
    " 'B.1.617.1 (Kappa)': 'other VOI',\n",
    " 'B.1.617.2 (Delta)': 'Delta',\n",
    " 'B.1.619': 'other VOI',\n",
    " 'B.1.525 (Eta)': 'other VOI',\n",
    " 'B.1.1.7 (Alpha)': 'Alpha',\n",
    " 'P.1 (Gamma)': 'Gamma',\n",
    " 'C.36.3': 'other VOI',\n",
    " 'C.37 (Lambda)': 'other VOI',\n",
    " 'B.1.1.519': 'other VOI',\n",
    " 'B.1.1.318': 'other VOI'}\n",
    "\n",
    "muts_df['manuscript_lineage'] = muts_df['emerging_lineage'].map(manuscript_lineage_map)"
   ]
  },
  {
   "cell_type": "markdown",
   "metadata": {},
   "source": [
    "Now plot Figure1 B: mutation accumulation versus clade growth rate for S1 nonsyn, syn and RdRp nonsyn. Plot each geographic region separately"
   ]
  },
  {
   "cell_type": "code",
   "execution_count": null,
   "metadata": {},
   "outputs": [],
   "source": [
    "def plot_fig1b_regional(regions, filename=None):\n",
    "    \n",
    "    #only color alpha, beta, delta, gamma, and group other vois\n",
    "    # the basal lineage will be gray\n",
    "    cmap = {'Alpha': \"#5E1D9D\", 'Beta':\"#416CCE\",'Delta':\"#89BB6B\",\n",
    "            'Gamma':\"#E14F2A\", 'other VOI':\"#DDAA3C\",'basal': \"#ABABAB\"}\n",
    "\n",
    "\n",
    "    # dictionary to convert labels to more readable labels\n",
    "    readable_labels = {'nonsyn': 'Nonsynonymous', 'syn': 'Synonymous'}\n",
    "    # whether or not to plot legend, based on subplot index\n",
    "    plot_legend = {**{x:False for x in range(0,len(regions)*3)}, **{1:True}}\n",
    "    \n",
    "    # initialize figure format\n",
    "    fig, axes= plt.subplots(len(regions),3, figsize=(9,len(regions)*1.5), sharey=True, sharex=True)\n",
    "    plt.tight_layout()\n",
    "    sns.set_style('white')\n",
    "    \n",
    "    # just want to plot S1 nonsyn, S1 syn and RdRp\n",
    "    fig1_categories = genes_to_consider[:3]\n",
    "    \n",
    "    for i, ax in enumerate(axes.flat):\n",
    "        # which geographic region is getting plotted\n",
    "        region_to_plot = regions[math.floor(i/3)]\n",
    "        \n",
    "        # j is a counter (0,1,2) for which mutations to plot\n",
    "        j = i-3*math.floor(i/3)\n",
    "            \n",
    "        ax = sns.scatterplot(x=\"logistic_growth\", y=\"muts_per_codon\", hue= 'manuscript_lineage',\n",
    "                      hue_order= list(cmap.keys()), palette=cmap,\n",
    "                      data = muts_df[(muts_df['mut_location']==fig1_categories[j][0]) & \n",
    "                                     (muts_df['region']==region_to_plot)], \n",
    "                             ax=ax, legend=plot_legend[i])\n",
    "        sns.regplot(x=\"logistic_growth\", y=\"muts_per_codon\", scatter=False, ax=ax, \n",
    "                    data = muts_df[(muts_df['mut_location']==fig1_categories[j][0]) & \n",
    "                                     (muts_df['region']==region_to_plot)], \n",
    "                    line_kws={\"color\":'black'}, ci=95)\n",
    "        \n",
    "        # only put titles on top row\n",
    "        if i in [0,1,2]:\n",
    "            ax.set_title(f'{fig1_categories[j][2]} {readable_labels[fig1_categories[j][3]]}', \n",
    "                         fontsize = 16, fontweight='bold')\n",
    "        \n",
    "        # run linear regression on the plot\n",
    "        slope, r_value = get_linear_reg_stats(muts_df[muts_df['region']==region_to_plot], fig1_categories[j][0], \n",
    "                                              \"logistic_growth\", 'muts_per_codon')\n",
    "        \n",
    "        # label r-value. \n",
    "        ax.annotate(f'$r$: {r_value}', xy=(-23,0.019), size=14, va='top', ha='left')\n",
    "    \n",
    "\n",
    "    # label row by which region is being plotted\n",
    "    # make north and south america read nicer\n",
    "    region_label = {x:x.capitalize() for x in regions}\n",
    "    region_label['northamerica'] = 'North America'\n",
    "    region_label['southamerica'] = 'South America'\n",
    "    \n",
    "    for i, ax in enumerate(axes.flat):\n",
    "        # only label y-axis on middle subplot\n",
    "        if i == math.floor(len(regions)/2)*3:\n",
    "            ax.set_ylabel('Mutations per codon', fontsize = 14)\n",
    "        else:\n",
    "            ax.set_ylabel(\"\", fontsize = 14)\n",
    "        # only put x-axis label on bottom row\n",
    "        if i in list(range(0,len(regions)*3))[-3:]:\n",
    "            ax.set_xlabel(\"Logistic Growth Rate\", fontsize = 14)\n",
    "        else:\n",
    "            ax.set_xlabel(\"\", fontsize = 14)\n",
    "\n",
    "        # put lineage legend on the top center plot\n",
    "        if i == 1:\n",
    "            handles, labels = ax.get_legend_handles_labels()\n",
    "            lgd = ax.legend(handles, labels, loc='upper center', bbox_to_anchor=(0.6, 2.1),\n",
    "                            ncol=3, fontsize=11, title_fontsize='large',\n",
    "                            title = r'$\\bf{Lineage}$')\n",
    "            \n",
    "        if (i-2)%3==0:\n",
    "            ax.text(1.0, 0.5, region_label[regions[int((i-2)/3)]], size=16, fontweight='bold', transform=ax.transAxes)\n",
    "\n",
    "    \n",
    "    \n",
    "    # remove box around plot\n",
    "    sns.despine(left=False, bottom=False)\n",
    "    # adjust spacing between plots\n",
    "    plt.subplots_adjust(hspace=0.3, wspace=0.1)\n",
    "    \n",
    "    # adjust fontsize and axis limits\n",
    "    for i, ax in enumerate(axes.flat):\n",
    "        ax.set_ylim(-0.0028,0.02)\n",
    "        ax.set_xlim(-24, 20)\n",
    "        plt.setp(ax.get_xticklabels(), fontsize=12)\n",
    "        plt.setp(ax.get_yticklabels(), fontsize=12)\n",
    "        \n",
    "    \n",
    "\n",
    "\n",
    "\n",
    "\n",
    "    if filename: \n",
    "        fig.savefig(filename, dpi=300, bbox_inches='tight')"
   ]
  },
  {
   "cell_type": "code",
   "execution_count": null,
   "metadata": {},
   "outputs": [],
   "source": [
    "plot_fig1b_regional(['global','asia','africa', 'europe', 'northamerica', 'oceania', 'southamerica'], \n",
    "                    filename='plots/regional_correlations.png')"
   ]
  }
 ],
 "metadata": {
  "kernelspec": {
   "display_name": "ncov-kernel",
   "language": "python",
   "name": "ncov-kernel"
  },
  "language_info": {
   "codemirror_mode": {
    "name": "ipython",
    "version": 3
   },
   "file_extension": ".py",
   "mimetype": "text/x-python",
   "name": "python",
   "nbconvert_exporter": "python",
   "pygments_lexer": "ipython3",
   "version": "3.6.13"
  }
 },
 "nbformat": 4,
 "nbformat_minor": 5
}
